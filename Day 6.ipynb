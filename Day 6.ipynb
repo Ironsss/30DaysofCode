{
 "cells": [
  {
   "cell_type": "markdown",
   "metadata": {},
   "source": [
    "## 30 Days Of Code\n",
    "\n",
    "> Task 6 **Ironsss**\n",
    "\n",
    "> _03/10/2021_\n",
    "\n",
    "#### Task 6\n",
    "*  Given a string, S, of length N that is indexed from 0 to N-1, print its even-indexed and odd-indexed characters as  space-separated strings on a single line (see the Sample below for more detail)."
   ]
  },
  {
   "cell_type": "code",
   "execution_count": 6,
   "metadata": {},
   "outputs": [
    {
     "name": "stdout",
     "output_type": "stream",
     "text": [
      "2\n",
      "hacker rank\n",
      "hce ak akrrn\n",
      "prueba de spliter\n",
      "pub esltr read pie\n"
     ]
    }
   ],
   "source": [
    "def spliter():\n",
    "    data = str(input().strip())\n",
    "    even =''\n",
    "    odd = ''\n",
    "    for i in range(len(data)):\n",
    "        if i%2 ==0:\n",
    "           even += data[i] \n",
    "        elif i%2 == 1:\n",
    "            odd += data[i]\n",
    "    return print(even,odd)\n",
    "\n",
    "t = int(input().strip())\n",
    "for i in range(t):\n",
    "    spliter()\n"
   ]
  },
  {
   "cell_type": "code",
   "execution_count": null,
   "metadata": {},
   "outputs": [],
   "source": []
  }
 ],
 "metadata": {
  "kernelspec": {
   "display_name": "Python 3",
   "language": "python",
   "name": "python3"
  },
  "language_info": {
   "codemirror_mode": {
    "name": "ipython",
    "version": 3
   },
   "file_extension": ".py",
   "mimetype": "text/x-python",
   "name": "python",
   "nbconvert_exporter": "python",
   "pygments_lexer": "ipython3",
   "version": "3.6.9"
  }
 },
 "nbformat": 4,
 "nbformat_minor": 2
}
