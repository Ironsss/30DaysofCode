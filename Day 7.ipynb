{
 "cells": [
  {
   "cell_type": "markdown",
   "metadata": {},
   "source": [
    "## 30 Days Of Code\n",
    "\n",
    "> Task 7 **Ironsss**\n",
    "\n",
    "> _03/10/2021_\n",
    "\n",
    "#### Task 7\n",
    "\n",
    "* Given an array, A, of  N integers, print A's elements in reverse order as a single line of space-separated numbers."
   ]
  },
  {
   "cell_type": "code",
   "execution_count": 4,
   "metadata": {},
   "outputs": [
    {
     "name": "stdout",
     "output_type": "stream",
     "text": [
      "3\n",
      "123213 312312\n",
      "2 1 3 2 1 3 3 1 2 3 2 1\n"
     ]
    }
   ],
   "source": [
    "# Making the array with specific length\n",
    "#!/bin/python3\n",
    "\n",
    "import math\n",
    "import os\n",
    "import random\n",
    "import re\n",
    "import sys\n",
    "\n",
    "\n",
    "if __name__ == '__main__':\n",
    "    n = int(input().strip())\n",
    "    new = input().strip()\n",
    "    data = []\n",
    "    new = new.replace(' ','')\n",
    "    for i in range(len(new)):\n",
    "        data.append(new[i])\n",
    "    data = data[::-1]\n",
    "    data = ' '.join(data)\n",
    "    print(data)\n"
   ]
  },
  {
   "cell_type": "code",
   "execution_count": 5,
   "metadata": {},
   "outputs": [
    {
     "name": "stdout",
     "output_type": "stream",
     "text": [
      "2\n",
      "23123 213132\n",
      "213132 23123\n"
     ]
    }
   ],
   "source": [
    "# Easiest way by: User [delated] in  Hacker Rank\n",
    "    n = int(input().strip())\n",
    "\n",
    "    arr = list(map(int, input().rstrip().split()))\n",
    "    print(' '.join(map(str, reversed(arr))))"
   ]
  },
  {
   "cell_type": "code",
   "execution_count": null,
   "metadata": {},
   "outputs": [],
   "source": []
  }
 ],
 "metadata": {
  "kernelspec": {
   "display_name": "Python 3",
   "language": "python",
   "name": "python3"
  },
  "language_info": {
   "codemirror_mode": {
    "name": "ipython",
    "version": 3
   },
   "file_extension": ".py",
   "mimetype": "text/x-python",
   "name": "python",
   "nbconvert_exporter": "python",
   "pygments_lexer": "ipython3",
   "version": "3.6.9"
  }
 },
 "nbformat": 4,
 "nbformat_minor": 2
}
