{
 "cells": [
  {
   "cell_type": "markdown",
   "metadata": {},
   "source": [
    "### 30 Days Of Code\n",
    "\n",
    "> Task 1 **Ironsss**\n",
    "\n",
    "> _27/09/2021_\n",
    "\n",
    "#### Task \n",
    "The variables $i,s,d$ are already declared and initialized for you. \n",
    "\n",
    "> You must:\n",
    "Declare  variables: one of type int, one of type double, and one of type String.\n",
    "\n",
    "Read  lines of input from stdin (according to the sequence given in the Input Format section below) and initialize your  variables.\n",
    "\n",
    "Use the **+** operator to perform the following operations:\n",
    "\n",
    "> Print the sum of  plus your int variable on a new line.\n",
    "\n",
    "> Print the sum of  plus your double variable to a scale of one decimal place on a new line.\n",
    "\n",
    "> Concatenate  with the string you read as input and print the result on a new line\n"
   ]
  },
  {
   "cell_type": "code",
   "execution_count": 7,
   "metadata": {},
   "outputs": [
    {
     "name": "stdout",
     "output_type": "stream",
     "text": [
      "1\n",
      "2\n",
      "is helping me \n",
      "5\n",
      "6.0\n",
      "HackerRank is helping me \n"
     ]
    }
   ],
   "source": [
    "i = 4\n",
    "d = 4.0\n",
    "s = 'HackerRank '\n",
    "# Declare second integer, double, and String variables.\n",
    "i2 = 3\n",
    "d2 = 5.0\n",
    "s2 = 'is helping me'\n",
    "\n",
    "# Read and save an integer, double, and String to your variables.\n",
    "\n",
    "i2 = input()\n",
    "d2 = input()\n",
    "s2 = input()\n",
    "\n",
    "# Print the sum of both integer variables on a new line.\n",
    "ni = i+int(i2)\n",
    "nd = d+float(d2)\n",
    "sd = s+str(s2)\n",
    "print(ni)\n",
    "# Print the sum of the double variables on a new line.\n",
    "print(nd)\n",
    "# Concatenate and print the String variables on a new line\n",
    "# The 's' variable above should be printed first.\n",
    "print(sd)\n"
   ]
  },
  {
   "cell_type": "code",
   "execution_count": null,
   "metadata": {},
   "outputs": [],
   "source": []
  }
 ],
 "metadata": {
  "kernelspec": {
   "display_name": "Python 3",
   "language": "python",
   "name": "python3"
  },
  "language_info": {
   "codemirror_mode": {
    "name": "ipython",
    "version": 3
   },
   "file_extension": ".py",
   "mimetype": "text/x-python",
   "name": "python",
   "nbconvert_exporter": "python",
   "pygments_lexer": "ipython3",
   "version": "3.6.9"
  }
 },
 "nbformat": 4,
 "nbformat_minor": 2
}
