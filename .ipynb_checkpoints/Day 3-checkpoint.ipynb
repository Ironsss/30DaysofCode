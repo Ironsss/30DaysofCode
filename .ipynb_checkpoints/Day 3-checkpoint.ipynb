{
 "cells": [
  {
   "cell_type": "markdown",
   "metadata": {},
   "source": [
    "## 30 Days Of Code\n",
    "\n",
    "> Task 3 **Ironsss**\n",
    "\n",
    "> _03/10/2021_\n",
    "\n",
    "#### Task 3\n",
    "\n",
    "Given an integer, , perform the following conditional actions:\n",
    "\n",
    "* If n is odd, print Weird\n",
    "* If n is even and in the inclusive range of 2 to 5, print Not Weird\n",
    "\n",
    "* If n is even and in the inclusive range of 6 to 20, print Weird\n",
    "\n",
    "* If n is even and greater than 20, print Not Weird\n",
    "\n"
   ]
  },
  {
   "cell_type": "code",
   "execution_count": 13,
   "metadata": {},
   "outputs": [
    {
     "name": "stdout",
     "output_type": "stream",
     "text": [
      "24\n",
      "Not Weird\n"
     ]
    }
   ],
   "source": [
    "import math\n",
    "import os\n",
    "import random\n",
    "import re\n",
    "import sys\n",
    "\n",
    "if __name__ == '__main__':\n",
    "    N = int(input().strip())\n",
    "    \n",
    "    if N%2 == 1:\n",
    "        print('Weird')\n",
    "    elif (N%2 == 0)and(N>=2 and N<=5):\n",
    "        print('Not Weird')\n",
    "    elif N%2 == 0 and (N>=6 and N<=20):\n",
    "        print('Weird')\n",
    "    elif N%2==0 and N>20:\n",
    "        print('Not Weird')\n",
    "        "
   ]
  },
  {
   "cell_type": "code",
   "execution_count": 12,
   "metadata": {},
   "outputs": [
    {
     "data": {
      "text/plain": [
       "0"
      ]
     },
     "execution_count": 12,
     "metadata": {},
     "output_type": "execute_result"
    }
   ],
   "source": [
    "24%2 "
   ]
  },
  {
   "cell_type": "code",
   "execution_count": null,
   "metadata": {},
   "outputs": [],
   "source": []
  }
 ],
 "metadata": {
  "kernelspec": {
   "display_name": "Python 3",
   "language": "python",
   "name": "python3"
  },
  "language_info": {
   "codemirror_mode": {
    "name": "ipython",
    "version": 3
   },
   "file_extension": ".py",
   "mimetype": "text/x-python",
   "name": "python",
   "nbconvert_exporter": "python",
   "pygments_lexer": "ipython3",
   "version": "3.6.9"
  }
 },
 "nbformat": 4,
 "nbformat_minor": 2
}
