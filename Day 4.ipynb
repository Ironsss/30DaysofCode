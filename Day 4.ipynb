{
 "cells": [
  {
   "cell_type": "markdown",
   "metadata": {},
   "source": [
    "## 30 Days Of Code\n",
    "\n",
    "> Task 4 **Ironsss**\n",
    "\n",
    "> _03/10/2021_\n",
    "\n",
    "#### Task 4\n",
    "\n",
    "Write a Person class with an instance variable,age, and a constructor that takes an integer,initialAge , as a parameter. The constructor must assign initialAge to age after confirming the argument passed as  is not negative; if a negative argument is passed as initialAge, the constructor should set  to 0 and print Age is not valid, setting age to 0.. In addition, you must write the following instance methods:\n",
    "\n",
    "* yearPasses() should increase the  instance variable by 1.\n",
    "amIOld() should perform the following conditional actions:\n",
    "  * If age < 13, print You are young..\n",
    "  * If 13 <= age <8 and , print You are a teenager..\n",
    "  * Otherwise, print  You are old..\n",
    "\n",
    "To help you learn by example and complete this challenge, much of the code is provided for you, but you'll be writing everything in the future. The code that creates each instance of your Person class is in the main method. Don't worry if you don't understand it all quite yet!\n",
    "\n",
    "Note: Do not remove or alter the stub code in the editor."
   ]
  },
  {
   "cell_type": "code",
   "execution_count": 26,
   "metadata": {},
   "outputs": [
    {
     "name": "stdout",
     "output_type": "stream",
     "text": [
      "5\n",
      "4\n",
      "You are young\n",
      "You are young\n",
      "\n",
      "-1\n",
      "Age is not valid setting age to 0\n",
      "You are young\n",
      "You are young\n",
      "\n",
      "10\n",
      "You are young\n",
      "Youe are a teenager\n",
      "\n",
      "16\n",
      "Youe are a teenager\n",
      "You are old\n",
      "\n",
      "18\n",
      "You are old\n",
      "You are old\n",
      "\n"
     ]
    }
   ],
   "source": [
    "class Person:\n",
    "    def __init__(self,initialAge):\n",
    "         # Add some more code to run some checks on initialAge\n",
    "        self.age = initialAge\n",
    "        if initialAge <0:\n",
    "            print('Age is not valid setting age to 0')\n",
    "        else:\n",
    "            self.age = 0   \n",
    "\n",
    "    def amIOld(self):\n",
    "        if age <=10:\n",
    "                print('You are young')\n",
    "        elif (age<18 and age >=13):\n",
    "            print('Youe are a teenager')\n",
    "        else:\n",
    "            print('You are old')\n",
    "            \n",
    "        # Do some computations in here and print out the correct statement to the console\n",
    "    def yearPasses(self):\n",
    "        # Increment the age of the person in here\n",
    "        global age\n",
    "        age += 1\n",
    "   \n",
    "\n",
    "t = int(input())\n",
    "for i in range(0, t):\n",
    "    age = int(input())         \n",
    "    p = Person(age)  \n",
    "    p.amIOld()\n",
    "    for j in range(0, 3):\n",
    "        p.yearPasses()       \n",
    "    p.amIOld()\n",
    "    print(\"\")"
   ]
  }
 ],
 "metadata": {
  "kernelspec": {
   "display_name": "Python 3",
   "language": "python",
   "name": "python3"
  },
  "language_info": {
   "codemirror_mode": {
    "name": "ipython",
    "version": 3
   },
   "file_extension": ".py",
   "mimetype": "text/x-python",
   "name": "python",
   "nbconvert_exporter": "python",
   "pygments_lexer": "ipython3",
   "version": "3.6.9"
  }
 },
 "nbformat": 4,
 "nbformat_minor": 2
}
